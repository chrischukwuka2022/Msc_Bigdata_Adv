{
 "cells": [
  {
   "cell_type": "code",
   "execution_count": 1,
   "id": "6f55b216",
   "metadata": {},
   "outputs": [],
   "source": [
    "import pandas as pd\n",
    "import numpy as np\n",
    "import matplotlib as plt\n",
    "from pyspark.sql.functions import unix_timestamp, from_unixtime\n",
    "from pyspark.sql.types import StructType, StructField, IntegerType, StringType, DateType\n",
    "from pyspark.sql import SparkSession"
   ]
  },
  {
   "cell_type": "code",
   "execution_count": 2,
   "id": "e18bc532",
   "metadata": {},
   "outputs": [],
   "source": [
    "spark = SparkSession.builder\\\n",
    "       .appName(' Spark App')\\\n",
    "       .getOrCreate()\n",
    "spark.conf.set(\"spark.sql.legacy.timeParserPolicy\",\"LEGACY\")"
   ]
  },
  {
   "cell_type": "code",
   "execution_count": 3,
   "id": "075746cf",
   "metadata": {},
   "outputs": [],
   "source": [
    "\n",
    "\n",
    "spark = SparkSession.builder.appName(\"readCSV\").getOrCreate()\n",
    "\n",
    "# Define the schema that matches your CSV file\n",
    "schema = StructType([\n",
    "    StructField(\"Date\", DateType(), True),\n",
    "    StructField(\"ID\", IntegerType(), True),\n",
    "    StructField(\"url\", StringType(), True),  # adjust the datatype as per your requirement\n",
    "    StructField(\"username\", StringType(), True),  # adjust the datatype as per your requirement\n",
    "    StructField(\"source\", StringType(), True),\n",
    "    StructField(\"location\", StringType(), True),\n",
    "    StructField(\"tweet\", StringType(), True),\n",
    "    StructField(\"num_of_likes\", IntegerType(), True),\n",
    "    StructField(\"num_of_rt\", IntegerType(), True),\n",
    "    StructField(\"followers\", IntegerType(), True),\n",
    "    StructField(\"replies\", IntegerType(), True)\n",
    "])\n",
    "\n",
    "\n",
    "\n"
   ]
  },
  {
   "cell_type": "code",
   "execution_count": 4,
   "id": "828f8c9b",
   "metadata": {},
   "outputs": [],
   "source": [
    "df = spark.read.csv('hdfs://localhost:9000/user1/MH_Campaigns1723.csv', schema=schema, header=True)"
   ]
  },
  {
   "cell_type": "code",
   "execution_count": 34,
   "id": "5ac5f0e9",
   "metadata": {},
   "outputs": [
    {
     "name": "stdout",
     "output_type": "stream",
     "text": [
      "root\n",
      " |-- Date: date (nullable = true)\n",
      " |-- ID: integer (nullable = true)\n",
      " |-- url: string (nullable = true)\n",
      " |-- username: string (nullable = true)\n",
      " |-- source: string (nullable = true)\n",
      " |-- location: string (nullable = true)\n",
      " |-- tweet: string (nullable = true)\n",
      " |-- num_of_likes: integer (nullable = true)\n",
      " |-- num_of_rt: integer (nullable = true)\n",
      " |-- followers: integer (nullable = true)\n",
      " |-- replies: integer (nullable = true)\n",
      "\n"
     ]
    }
   ],
   "source": [
    "df.printSchema()"
   ]
  },
  {
   "cell_type": "code",
   "execution_count": 23,
   "id": "f5f9e395",
   "metadata": {},
   "outputs": [
    {
     "name": "stdout",
     "output_type": "stream",
     "text": [
      "Column<'Date'>\n"
     ]
    }
   ],
   "source": [
    "print(df[\"Date\"])\n"
   ]
  },
  {
   "cell_type": "code",
   "execution_count": 35,
   "id": "22d2b064",
   "metadata": {},
   "outputs": [
    {
     "name": "stderr",
     "output_type": "stream",
     "text": [
      "2023-05-19 16:07:53,707 WARN csv.CSVHeaderChecker: Number of column in CSV header is not equal to number of fields in the schema:\n",
      " Header length: 17, schema size: 11\n",
      "CSV file: hdfs://localhost:9000/user1/MH_Campaigns1723.csv\n"
     ]
    },
    {
     "name": "stdout",
     "output_type": "stream",
     "text": [
      "+----------+----+--------------------+---------------+-------------------+-------------------+--------------------+------------+---------+---------+-------+\n",
      "|      Date|  ID|                 url|       username|             source|           location|               tweet|num_of_likes|num_of_rt|followers|replies|\n",
      "+----------+----+--------------------+---------------+-------------------+-------------------+--------------------+------------+---------+---------+-------+\n",
      "|2023-02-15|null|https://twitter.c...|   haringeyiapt| Twitter for iPhone|          Haringey |People with OCD e...|           5|        1|      317|      0|\n",
      "|2023-02-09|null|https://twitter.c...|  scrupulOCD_KC|Twitter for Android|            unknown|Hello all I'm Eri...|        null|     null|     null|   null|\n",
      "|      null|   0|                   0|              9|                  0|                OCD|                 0.0|        null|     null|     null|   null|\n",
      "|2022-10-20|null|https://twitter.c...| FootstepsCandC|       SmarterQueue|         Gloucester|In light of last ...|        null|     null|     null|   null|\n",
      "|      null|   0|                   0|            905|                  0|                OCD|                 0.0|        null|     null|     null|   null|\n",
      "|2022-10-18|null|https://twitter.c...|          IOCDF|    Twitter Web App|         Boston, MA|The GIFS now have...|        null|     null|     null|   null|\n",
      "|      null|   5|                   2|          19257|                  0|                OCD|0.000259645843070...|        null|     null|     null|   null|\n",
      "|2022-10-18|null|https://twitter.c...|          IOCDF|    Twitter Web App|         Boston, MA|The 2022 #OCDweek...|           7|        2|    19257|      1|\n",
      "|2022-10-17|null|https://twitter.c...|          IOCDF|      Sprout Social|         Boston, MA|Did you catch las...|           5|        2|    19257|      0|\n",
      "|2022-10-17|null|https://twitter.c...|      BrainsWay|            HeyOrca|            unknown|Did you miss our ...|        null|     null|     null|   null|\n",
      "|      null|null| in a special pre...|              2|                  2|               4377|                   0|        null|     null|     null|   null|\n",
      "|2022-10-17|null|https://twitter.c...|    SuicideLine|             Buffer|Victoria, Australia|OCD impacts aroun...|        null|     null|     null|   null|\n",
      "|      null|null|                null|           null|               null|               null|                null|        null|     null|     null|   null|\n",
      "|      null|   1|                   0|           1008|                  0|                OCD|0.000992063492063492|        null|     null|     null|   null|\n",
      "|2022-10-15|null|https://twitter.c...|newsocialworker|Twitter for Android|                USA|Today is the last...|        null|     null|     null|   null|\n",
      "|      null|null|                null|           null|               null|               null|                null|        null|     null|     null|   null|\n",
      "|      null|   1|                   0|          14171|                  0|                OCD|7.056665020111496...|        null|     null|     null|   null|\n",
      "|2022-10-15|null|https://twitter.c...|      BrainsWay|            HeyOrca|            unknown|\"\"\"It was miracul...|        null|     null|     null|   null|\n",
      "|      null|null|                null|           null|               null|               null|                null|        null|     null|     null|   null|\n",
      "|      null|   3|                   2|           4377|                  0|                OCD|0.000685400959561...|        null|     null|     null|   null|\n",
      "+----------+----+--------------------+---------------+-------------------+-------------------+--------------------+------------+---------+---------+-------+\n",
      "only showing top 20 rows\n",
      "\n"
     ]
    },
    {
     "name": "stderr",
     "output_type": "stream",
     "text": [
      "\r",
      "                                                                                \r"
     ]
    }
   ],
   "source": [
    "df.show()"
   ]
  },
  {
   "cell_type": "code",
   "execution_count": null,
   "id": "12a97f29",
   "metadata": {},
   "outputs": [],
   "source": []
  }
 ],
 "metadata": {
  "kernelspec": {
   "display_name": "Python 3 (ipykernel)",
   "language": "python",
   "name": "python3"
  },
  "language_info": {
   "codemirror_mode": {
    "name": "ipython",
    "version": 3
   },
   "file_extension": ".py",
   "mimetype": "text/x-python",
   "name": "python",
   "nbconvert_exporter": "python",
   "pygments_lexer": "ipython3",
   "version": "3.10.6"
  }
 },
 "nbformat": 4,
 "nbformat_minor": 5
}
